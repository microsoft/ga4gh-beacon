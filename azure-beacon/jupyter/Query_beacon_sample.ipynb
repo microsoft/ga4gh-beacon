{
 "cells": [
  {
   "cell_type": "code",
   "execution_count": 1,
   "id": "f4fc143e-982c-4a35-adbf-aead1c558d47",
   "metadata": {},
   "outputs": [],
   "source": [
    "import requests"
   ]
  },
  {
   "cell_type": "code",
   "execution_count": 5,
   "id": "41656788-e5bf-41dc-b15c-62ed363667ee",
   "metadata": {},
   "outputs": [
    {
     "data": {
      "text/plain": [
       "'Beacon API welcomes you!'"
      ]
     },
     "execution_count": 5,
     "metadata": {},
     "output_type": "execute_result"
    }
   ],
   "source": [
    "r = requests.get('http://localhost:8080/datasets')\n",
    "r.status_code\n",
    "r.text"
   ]
  },
  {
   "cell_type": "code",
   "execution_count": null,
   "id": "bb33870a-2dec-4320-ae2e-c6628044c7cd",
   "metadata": {},
   "outputs": [],
   "source": []
  }
 ],
 "metadata": {
  "kernelspec": {
   "display_name": "Python 3 (ipykernel)",
   "language": "python",
   "name": "python3"
  },
  "language_info": {
   "codemirror_mode": {
    "name": "ipython",
    "version": 3
   },
   "file_extension": ".py",
   "mimetype": "text/x-python",
   "name": "python",
   "nbconvert_exporter": "python",
   "pygments_lexer": "ipython3",
   "version": "3.10.12"
  }
 },
 "nbformat": 4,
 "nbformat_minor": 5
}
