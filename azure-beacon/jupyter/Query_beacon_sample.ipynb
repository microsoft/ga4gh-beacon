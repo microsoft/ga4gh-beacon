{
 "cells": [
  {
   "cell_type": "code",
   "execution_count": 4,
   "id": "f4fc143e-982c-4a35-adbf-aead1c558d47",
   "metadata": {},
   "outputs": [],
   "source": [
    "import requests, json"
   ]
  },
  {
   "cell_type": "code",
   "execution_count": 8,
   "id": "41656788-e5bf-41dc-b15c-62ed363667ee",
   "metadata": {},
   "outputs": [
    {
     "name": "stdout",
     "output_type": "stream",
     "text": [
      "{\n",
      "    \"beaconHandovers\": [],\n",
      "    \"info\": null,\n",
      "    \"meta\": {\n",
      "        \"apiVersion\": \"v2.0\",\n",
      "        \"beaconId\": \"org.example.beacon.v2\",\n",
      "        \"receivedRequestSummary\": null,\n",
      "        \"returnedGranularity\": \"record\",\n",
      "        \"returnedSchemas\": null,\n",
      "        \"testMode\": false\n",
      "    },\n",
      "    \"response\": {\n",
      "        \"$schema\": null,\n",
      "        \"resultSets\": [\n",
      "            {\n",
      "                \"exists\": true,\n",
      "                \"id\": \"org.example.beacon.v2\",\n",
      "                \"info\": null,\n",
      "                \"results\": [\n",
      "                    \" Test dataset0, null,  http://someurl.com\",\n",
      "                    \" Test dataset1, null,  http://someotherurl.com\"\n",
      "                ],\n",
      "                \"resultsCount\": 2,\n",
      "                \"resultsHandovers\": [],\n",
      "                \"setType\": \"dataset\"\n",
      "            }\n",
      "        ]\n",
      "    },\n",
      "    \"responseSummary\": {\n",
      "        \"exists\": true,\n",
      "        \"numTotalResults\": 2\n",
      "    }\n",
      "}\n"
     ]
    }
   ],
   "source": [
    "r = requests.get('http://localhost:8080/datasets')\n",
    "r.status_code\n",
    "json_object = json.loads(r.text)\n",
    "print(json.dumps(json_object, indent=4, sort_keys=True))"
   ]
  },
  {
   "cell_type": "code",
   "execution_count": null,
   "id": "bb33870a-2dec-4320-ae2e-c6628044c7cd",
   "metadata": {},
   "outputs": [],
   "source": []
  }
 ],
 "metadata": {
  "kernelspec": {
   "display_name": "Python 3 (ipykernel)",
   "language": "python",
   "name": "python3"
  },
  "language_info": {
   "codemirror_mode": {
    "name": "ipython",
    "version": 3
   },
   "file_extension": ".py",
   "mimetype": "text/x-python",
   "name": "python",
   "nbconvert_exporter": "python",
   "pygments_lexer": "ipython3",
   "version": "3.10.12"
  }
 },
 "nbformat": 4,
 "nbformat_minor": 5
}
